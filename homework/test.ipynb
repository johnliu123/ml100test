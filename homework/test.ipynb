{
 "cells": [
  {
   "cell_type": "code",
   "execution_count": 1,
   "metadata": {},
   "outputs": [
    {
     "data": {
      "text/plain": [
       "\"\\nimport os\\nimport pandas as pd\\npre = os.path.dirname(os.path.realpath('__file__'))\\nfname = 'marathon.xlsx'\\npath = os.path.join(pre, fname)\\npath\\n\""
      ]
     },
     "execution_count": 1,
     "metadata": {},
     "output_type": "execute_result"
    }
   ],
   "source": [
    "\"\"\"\n",
    "import os\n",
    "import pandas as pd\n",
    "pre = os.path.dirname(os.path.realpath('__file__'))\n",
    "fname = 'marathon.xlsx'\n",
    "path = os.path.join(pre, fname)\n",
    "path\n",
    "\"\"\""
   ]
  },
  {
   "cell_type": "code",
   "execution_count": 37,
   "metadata": {},
   "outputs": [],
   "source": [
    "import pandas as pd\n",
    "\n",
    "\n",
    "#df=pd.read_excel('/Users/john/Desktop/python/marathon.xlsx',sheet_name=\"票券資訊 (已完成)\") \n",
    "df=pd.read_excel('marathon.xlsx',sheet_name=\"票券資訊 (已完成)\") "
   ]
  },
  {
   "cell_type": "code",
   "execution_count": 38,
   "metadata": {},
   "outputs": [],
   "source": [
    "pd.set_option('display.max_columns',500)"
   ]
  },
  {
   "cell_type": "code",
   "execution_count": 39,
   "metadata": {
    "scrolled": true
   },
   "outputs": [
    {
     "data": {
      "text/html": [
       "<div>\n",
       "<style scoped>\n",
       "    .dataframe tbody tr th:only-of-type {\n",
       "        vertical-align: middle;\n",
       "    }\n",
       "\n",
       "    .dataframe tbody tr th {\n",
       "        vertical-align: top;\n",
       "    }\n",
       "\n",
       "    .dataframe thead th {\n",
       "        text-align: right;\n",
       "    }\n",
       "</style>\n",
       "<table border=\"1\" class=\"dataframe\">\n",
       "  <thead>\n",
       "    <tr style=\"text-align: right;\">\n",
       "      <th></th>\n",
       "      <th>訂單編號</th>\n",
       "      <th>票號</th>\n",
       "      <th>狀態</th>\n",
       "      <th>訂購人姓名</th>\n",
       "      <th>訂購人Email</th>\n",
       "      <th>訂購人電話</th>\n",
       "      <th>參加人姓名</th>\n",
       "      <th>參加人Email</th>\n",
       "      <th>參加人電話</th>\n",
       "      <th>報名時間(GTM+8)</th>\n",
       "      <th>有效時間(GTM+8)</th>\n",
       "      <th>票種分組</th>\n",
       "      <th>票券名稱</th>\n",
       "      <th>票價(NT)</th>\n",
       "      <th>付款時間(GTM+8)</th>\n",
       "      <th>付款方式</th>\n",
       "      <th>信用卡末四碼</th>\n",
       "      <th>首次驗票時間(GTM+8)</th>\n",
       "      <th>首次驗票備註</th>\n",
       "      <th>最後驗票時間(GTM+8)</th>\n",
       "      <th>最後驗票備註</th>\n",
       "      <th>驗票次數</th>\n",
       "      <th>驗票通知</th>\n",
       "      <th>備註</th>\n",
       "      <th>取消原因</th>\n",
       "      <th>注意事項</th>\n",
       "      <th>性別</th>\n",
       "      <th>年齡</th>\n",
       "      <th>產業</th>\n",
       "      <th>教育程度</th>\n",
       "      <th>職業</th>\n",
       "      <th>活動資訊來源</th>\n",
       "      <th>購買方式</th>\n",
       "      <th>開立電子發票</th>\n",
       "      <th>三聯發票統編號碼</th>\n",
       "      <th>三聯統編發票抬頭</th>\n",
       "      <th>三聯式發票寄送Email</th>\n",
       "      <th>二聯發票手機載具條碼</th>\n",
       "      <th>二聯發票發票寄送地址(中獎寄送)</th>\n",
       "      <th>二聯發票發票收件者</th>\n",
       "    </tr>\n",
       "  </thead>\n",
       "  <tbody>\n",
       "    <tr>\n",
       "      <th>0</th>\n",
       "      <td>2012280129251476230164</td>\n",
       "      <td>2012280129251339608727</td>\n",
       "      <td>已付款</td>\n",
       "      <td>Hugo Chen</td>\n",
       "      <td>ciefcu@gmail.com</td>\n",
       "      <td>886935921203</td>\n",
       "      <td>Hugo Chen</td>\n",
       "      <td>ciefcu@gmail.com</td>\n",
       "      <td>886935921203</td>\n",
       "      <td>2020-12-28 09:29</td>\n",
       "      <td>2021-01-01 00:00 ~ 2021-02-28 00:00</td>\n",
       "      <td>NaN</td>\n",
       "      <td>早鳥票</td>\n",
       "      <td>1990</td>\n",
       "      <td>2020-12-28 09:32</td>\n",
       "      <td>信用卡</td>\n",
       "      <td>4107.0</td>\n",
       "      <td>2021-01-04 13:25</td>\n",
       "      <td>NaN</td>\n",
       "      <td>2021-01-04 13:25</td>\n",
       "      <td>NaN</td>\n",
       "      <td>1</td>\n",
       "      <td>NaN</td>\n",
       "      <td>NaN</td>\n",
       "      <td>NaN</td>\n",
       "      <td>NaN</td>\n",
       "      <td>男性</td>\n",
       "      <td>41~45 歲</td>\n",
       "      <td>其它</td>\n",
       "      <td>研究所及以上</td>\n",
       "      <td>業務人員</td>\n",
       "      <td>ACCUPASS 網站/電子報</td>\n",
       "      <td>電腦</td>\n",
       "      <td>我要捐贈(以下資訊不需填寫)</td>\n",
       "      <td>NaN</td>\n",
       "      <td>NaN</td>\n",
       "      <td>NaN</td>\n",
       "      <td>NaN</td>\n",
       "      <td>NaN</td>\n",
       "      <td>NaN</td>\n",
       "    </tr>\n",
       "    <tr>\n",
       "      <th>1</th>\n",
       "      <td>2101100549501458177702</td>\n",
       "      <td>2101100549502027268561</td>\n",
       "      <td>已付款</td>\n",
       "      <td>Jasmine Lee</td>\n",
       "      <td>jasmine_lee@avision.com.tw</td>\n",
       "      <td>886925579213</td>\n",
       "      <td>Jasmine Lee</td>\n",
       "      <td>jasmine_lee@avision.com.tw</td>\n",
       "      <td>886925579213</td>\n",
       "      <td>2021-01-10 13:49</td>\n",
       "      <td>2021-01-01 00:00 ~ 2021-02-28 00:00</td>\n",
       "      <td>NaN</td>\n",
       "      <td>早鳥票</td>\n",
       "      <td>1990</td>\n",
       "      <td>2021-01-10 13:52</td>\n",
       "      <td>信用卡</td>\n",
       "      <td>8402.0</td>\n",
       "      <td>2021-01-11 15:14</td>\n",
       "      <td>NaN</td>\n",
       "      <td>2021-01-11 15:14</td>\n",
       "      <td>NaN</td>\n",
       "      <td>1</td>\n",
       "      <td>NaN</td>\n",
       "      <td>NaN</td>\n",
       "      <td>NaN</td>\n",
       "      <td>NaN</td>\n",
       "      <td>女性</td>\n",
       "      <td>36~40 歲</td>\n",
       "      <td>資訊科技</td>\n",
       "      <td>大學</td>\n",
       "      <td>管理階層</td>\n",
       "      <td>ACCUPASS 網站/電子報</td>\n",
       "      <td>電腦</td>\n",
       "      <td>我要捐贈(以下資訊不需填寫)</td>\n",
       "      <td>NaN</td>\n",
       "      <td>NaN</td>\n",
       "      <td>NaN</td>\n",
       "      <td>NaN</td>\n",
       "      <td>NaN</td>\n",
       "      <td>NaN</td>\n",
       "    </tr>\n",
       "    <tr>\n",
       "      <th>2</th>\n",
       "      <td>2101100928331027843185</td>\n",
       "      <td>2101100928336564452190</td>\n",
       "      <td>已付款</td>\n",
       "      <td>劉弘祥</td>\n",
       "      <td>o3o@livemail.tw</td>\n",
       "      <td>886960951930</td>\n",
       "      <td>劉弘祥</td>\n",
       "      <td>o3o@livemail.tw</td>\n",
       "      <td>886960951930</td>\n",
       "      <td>2021-01-10 17:28</td>\n",
       "      <td>2021-01-01 00:00 ~ 2021-02-28 00:00</td>\n",
       "      <td>NaN</td>\n",
       "      <td>早鳥多人套票 (2人以上)</td>\n",
       "      <td>1850</td>\n",
       "      <td>2021-01-10 17:32</td>\n",
       "      <td>街口支付</td>\n",
       "      <td>NaN</td>\n",
       "      <td>2021-01-10 17:36</td>\n",
       "      <td>NaN</td>\n",
       "      <td>2021-01-10 17:36</td>\n",
       "      <td>NaN</td>\n",
       "      <td>1</td>\n",
       "      <td>NaN</td>\n",
       "      <td>NaN</td>\n",
       "      <td>NaN</td>\n",
       "      <td>NaN</td>\n",
       "      <td>不公開</td>\n",
       "      <td>21~25 歲</td>\n",
       "      <td>學生</td>\n",
       "      <td>大學</td>\n",
       "      <td>其它</td>\n",
       "      <td>ACCUPASS 網站/電子報</td>\n",
       "      <td>電腦</td>\n",
       "      <td>二聯式</td>\n",
       "      <td>NaN</td>\n",
       "      <td>NaN</td>\n",
       "      <td>NaN</td>\n",
       "      <td>NaN</td>\n",
       "      <td>(300045) 新竹市東區建功一路87號12樓之2</td>\n",
       "      <td>劉弘祥</td>\n",
       "    </tr>\n",
       "    <tr>\n",
       "      <th>3</th>\n",
       "      <td>2101100928331027843185</td>\n",
       "      <td>2101100928339600164610</td>\n",
       "      <td>已付款</td>\n",
       "      <td>劉弘祥</td>\n",
       "      <td>o3o@livemail.tw</td>\n",
       "      <td>886960951930</td>\n",
       "      <td>陳純敏</td>\n",
       "      <td>vincentfosterchen@gmail.com</td>\n",
       "      <td>8860958664190</td>\n",
       "      <td>2021-01-10 17:28</td>\n",
       "      <td>2021-01-01 00:00 ~ 2021-02-28 00:00</td>\n",
       "      <td>NaN</td>\n",
       "      <td>早鳥多人套票 (2人以上)</td>\n",
       "      <td>1850</td>\n",
       "      <td>2021-01-10 17:32</td>\n",
       "      <td>街口支付</td>\n",
       "      <td>NaN</td>\n",
       "      <td>NaN</td>\n",
       "      <td>NaN</td>\n",
       "      <td>NaN</td>\n",
       "      <td>NaN</td>\n",
       "      <td>0</td>\n",
       "      <td>NaN</td>\n",
       "      <td>NaN</td>\n",
       "      <td>NaN</td>\n",
       "      <td>NaN</td>\n",
       "      <td>男性</td>\n",
       "      <td>21~25 歲</td>\n",
       "      <td>學生</td>\n",
       "      <td>大學</td>\n",
       "      <td>其它</td>\n",
       "      <td>朋友介紹</td>\n",
       "      <td>電腦</td>\n",
       "      <td>三聯式</td>\n",
       "      <td>24559808.0</td>\n",
       "      <td>迅創投資股份有限公司</td>\n",
       "      <td>vincentfosterchen@gmail.com</td>\n",
       "      <td>NaN</td>\n",
       "      <td>NaN</td>\n",
       "      <td>NaN</td>\n",
       "    </tr>\n",
       "  </tbody>\n",
       "</table>\n",
       "</div>"
      ],
      "text/plain": [
       "                     訂單編號                      票號   狀態        訂購人姓名  \\\n",
       "0  2012280129251476230164  2012280129251339608727  已付款    Hugo Chen   \n",
       "1  2101100549501458177702  2101100549502027268561  已付款  Jasmine Lee   \n",
       "2  2101100928331027843185  2101100928336564452190  已付款          劉弘祥   \n",
       "3  2101100928331027843185  2101100928339600164610  已付款          劉弘祥   \n",
       "\n",
       "                     訂購人Email         訂購人電話        參加人姓名  \\\n",
       "0            ciefcu@gmail.com  886935921203    Hugo Chen   \n",
       "1  jasmine_lee@avision.com.tw  886925579213  Jasmine Lee   \n",
       "2             o3o@livemail.tw  886960951930          劉弘祥   \n",
       "3             o3o@livemail.tw  886960951930          陳純敏   \n",
       "\n",
       "                      參加人Email          參加人電話       報名時間(GTM+8)  \\\n",
       "0             ciefcu@gmail.com   886935921203  2020-12-28 09:29   \n",
       "1   jasmine_lee@avision.com.tw   886925579213  2021-01-10 13:49   \n",
       "2              o3o@livemail.tw   886960951930  2021-01-10 17:28   \n",
       "3  vincentfosterchen@gmail.com  8860958664190  2021-01-10 17:28   \n",
       "\n",
       "                           有效時間(GTM+8)  票種分組           票券名稱  票價(NT)  \\\n",
       "0  2021-01-01 00:00 ~ 2021-02-28 00:00   NaN            早鳥票    1990   \n",
       "1  2021-01-01 00:00 ~ 2021-02-28 00:00   NaN            早鳥票    1990   \n",
       "2  2021-01-01 00:00 ~ 2021-02-28 00:00   NaN  早鳥多人套票 (2人以上)    1850   \n",
       "3  2021-01-01 00:00 ~ 2021-02-28 00:00   NaN  早鳥多人套票 (2人以上)    1850   \n",
       "\n",
       "        付款時間(GTM+8)  付款方式  信用卡末四碼     首次驗票時間(GTM+8)  首次驗票備註     最後驗票時間(GTM+8)  \\\n",
       "0  2020-12-28 09:32   信用卡  4107.0  2021-01-04 13:25     NaN  2021-01-04 13:25   \n",
       "1  2021-01-10 13:52   信用卡  8402.0  2021-01-11 15:14     NaN  2021-01-11 15:14   \n",
       "2  2021-01-10 17:32  街口支付     NaN  2021-01-10 17:36     NaN  2021-01-10 17:36   \n",
       "3  2021-01-10 17:32  街口支付     NaN               NaN     NaN               NaN   \n",
       "\n",
       "   最後驗票備註  驗票次數  驗票通知  備註  取消原因  注意事項   性別       年齡    產業    教育程度    職業  \\\n",
       "0     NaN     1   NaN NaN   NaN   NaN   男性  41~45 歲    其它  研究所及以上  業務人員   \n",
       "1     NaN     1   NaN NaN   NaN   NaN   女性  36~40 歲  資訊科技      大學  管理階層   \n",
       "2     NaN     1   NaN NaN   NaN   NaN  不公開  21~25 歲    學生      大學    其它   \n",
       "3     NaN     0   NaN NaN   NaN   NaN   男性  21~25 歲    學生      大學    其它   \n",
       "\n",
       "            活動資訊來源 購買方式          開立電子發票    三聯發票統編號碼    三聯統編發票抬頭  \\\n",
       "0  ACCUPASS 網站/電子報   電腦  我要捐贈(以下資訊不需填寫)         NaN         NaN   \n",
       "1  ACCUPASS 網站/電子報   電腦  我要捐贈(以下資訊不需填寫)         NaN         NaN   \n",
       "2  ACCUPASS 網站/電子報   電腦             二聯式         NaN         NaN   \n",
       "3             朋友介紹   電腦             三聯式  24559808.0  迅創投資股份有限公司   \n",
       "\n",
       "                  三聯式發票寄送Email  二聯發票手機載具條碼            二聯發票發票寄送地址(中獎寄送)  \\\n",
       "0                          NaN         NaN                         NaN   \n",
       "1                          NaN         NaN                         NaN   \n",
       "2                          NaN         NaN  (300045) 新竹市東區建功一路87號12樓之2   \n",
       "3  vincentfosterchen@gmail.com         NaN                         NaN   \n",
       "\n",
       "  二聯發票發票收件者  \n",
       "0       NaN  \n",
       "1       NaN  \n",
       "2       劉弘祥  \n",
       "3       NaN  "
      ]
     },
     "execution_count": 39,
     "metadata": {},
     "output_type": "execute_result"
    }
   ],
   "source": [
    "df"
   ]
  },
  {
   "cell_type": "code",
   "execution_count": 40,
   "metadata": {},
   "outputs": [
    {
     "data": {
      "text/plain": [
       "<bound method DataFrame.info of                      訂單編號                      票號   狀態        訂購人姓名  \\\n",
       "0  2012280129251476230164  2012280129251339608727  已付款    Hugo Chen   \n",
       "1  2101100549501458177702  2101100549502027268561  已付款  Jasmine Lee   \n",
       "2  2101100928331027843185  2101100928336564452190  已付款          劉弘祥   \n",
       "3  2101100928331027843185  2101100928339600164610  已付款          劉弘祥   \n",
       "\n",
       "                     訂購人Email         訂購人電話        參加人姓名  \\\n",
       "0            ciefcu@gmail.com  886935921203    Hugo Chen   \n",
       "1  jasmine_lee@avision.com.tw  886925579213  Jasmine Lee   \n",
       "2             o3o@livemail.tw  886960951930          劉弘祥   \n",
       "3             o3o@livemail.tw  886960951930          陳純敏   \n",
       "\n",
       "                      參加人Email          參加人電話       報名時間(GTM+8)  \\\n",
       "0             ciefcu@gmail.com   886935921203  2020-12-28 09:29   \n",
       "1   jasmine_lee@avision.com.tw   886925579213  2021-01-10 13:49   \n",
       "2              o3o@livemail.tw   886960951930  2021-01-10 17:28   \n",
       "3  vincentfosterchen@gmail.com  8860958664190  2021-01-10 17:28   \n",
       "\n",
       "                           有效時間(GTM+8)  票種分組           票券名稱  票價(NT)  \\\n",
       "0  2021-01-01 00:00 ~ 2021-02-28 00:00   NaN            早鳥票    1990   \n",
       "1  2021-01-01 00:00 ~ 2021-02-28 00:00   NaN            早鳥票    1990   \n",
       "2  2021-01-01 00:00 ~ 2021-02-28 00:00   NaN  早鳥多人套票 (2人以上)    1850   \n",
       "3  2021-01-01 00:00 ~ 2021-02-28 00:00   NaN  早鳥多人套票 (2人以上)    1850   \n",
       "\n",
       "        付款時間(GTM+8)  付款方式  信用卡末四碼     首次驗票時間(GTM+8)  首次驗票備註     最後驗票時間(GTM+8)  \\\n",
       "0  2020-12-28 09:32   信用卡  4107.0  2021-01-04 13:25     NaN  2021-01-04 13:25   \n",
       "1  2021-01-10 13:52   信用卡  8402.0  2021-01-11 15:14     NaN  2021-01-11 15:14   \n",
       "2  2021-01-10 17:32  街口支付     NaN  2021-01-10 17:36     NaN  2021-01-10 17:36   \n",
       "3  2021-01-10 17:32  街口支付     NaN               NaN     NaN               NaN   \n",
       "\n",
       "   最後驗票備註  驗票次數  驗票通知  備註  取消原因  注意事項   性別       年齡    產業    教育程度    職業  \\\n",
       "0     NaN     1   NaN NaN   NaN   NaN   男性  41~45 歲    其它  研究所及以上  業務人員   \n",
       "1     NaN     1   NaN NaN   NaN   NaN   女性  36~40 歲  資訊科技      大學  管理階層   \n",
       "2     NaN     1   NaN NaN   NaN   NaN  不公開  21~25 歲    學生      大學    其它   \n",
       "3     NaN     0   NaN NaN   NaN   NaN   男性  21~25 歲    學生      大學    其它   \n",
       "\n",
       "            活動資訊來源 購買方式          開立電子發票    三聯發票統編號碼    三聯統編發票抬頭  \\\n",
       "0  ACCUPASS 網站/電子報   電腦  我要捐贈(以下資訊不需填寫)         NaN         NaN   \n",
       "1  ACCUPASS 網站/電子報   電腦  我要捐贈(以下資訊不需填寫)         NaN         NaN   \n",
       "2  ACCUPASS 網站/電子報   電腦             二聯式         NaN         NaN   \n",
       "3             朋友介紹   電腦             三聯式  24559808.0  迅創投資股份有限公司   \n",
       "\n",
       "                  三聯式發票寄送Email  二聯發票手機載具條碼            二聯發票發票寄送地址(中獎寄送)  \\\n",
       "0                          NaN         NaN                         NaN   \n",
       "1                          NaN         NaN                         NaN   \n",
       "2                          NaN         NaN  (300045) 新竹市東區建功一路87號12樓之2   \n",
       "3  vincentfosterchen@gmail.com         NaN                         NaN   \n",
       "\n",
       "  二聯發票發票收件者  \n",
       "0       NaN  \n",
       "1       NaN  \n",
       "2       劉弘祥  \n",
       "3       NaN  >"
      ]
     },
     "execution_count": 40,
     "metadata": {},
     "output_type": "execute_result"
    }
   ],
   "source": [
    "df.info"
   ]
  },
  {
   "cell_type": "code",
   "execution_count": 41,
   "metadata": {},
   "outputs": [],
   "source": [
    "#label 轉換\n",
    "df.loc[df[\"票券名稱\"]==\"單人票\",\"票券名稱\"]=\"單人\"\n",
    "df.loc[df[\"票券名稱\"]==\"早鳥票\",\"票券名稱\"]=\"單人早鳥\"\n",
    "df.loc[df[\"票券名稱\"]==\"多人套票 (2人以上)\",\"票券名稱\"]=\"團體票\"\n",
    "df.loc[df[\"票券名稱\"]==\"早鳥多人套票 (2人以上)\",\"票券名稱\"]=\"團體早鳥\""
   ]
  },
  {
   "cell_type": "code",
   "execution_count": 42,
   "metadata": {},
   "outputs": [],
   "source": [
    "df=pd.get_dummies(df,columns=[\"票券名稱\"])"
   ]
  },
  {
   "cell_type": "code",
   "execution_count": 43,
   "metadata": {},
   "outputs": [
    {
     "data": {
      "text/plain": [
       "'\\ndf=df.rename(columns={\"票券名稱_單人\":\"單人\"})\\ndf=df.rename(columns={\"票券名稱_單人早鳥\":\"單人早鳥\"})\\ndf=df.rename(columns={\"票券名稱_團體票\":\"團體票\"})\\ndf=df.rename(columns={\"票券名稱_團體早鳥\":\"團體早鳥\"})\\n'"
      ]
     },
     "execution_count": 43,
     "metadata": {},
     "output_type": "execute_result"
    }
   ],
   "source": [
    "for i in df.columns:\n",
    "    if '票券名稱_' in i:\n",
    "        name=i.replace(\"票券名稱_\",\"\")\n",
    "        df=df.rename(columns={i:name})\n",
    "\n",
    "\"\"\"\n",
    "df=df.rename(columns={\"票券名稱_單人\":\"單人\"})\n",
    "df=df.rename(columns={\"票券名稱_單人早鳥\":\"單人早鳥\"})\n",
    "df=df.rename(columns={\"票券名稱_團體票\":\"團體票\"})\n",
    "df=df.rename(columns={\"票券名稱_團體早鳥\":\"團體早鳥\"})\n",
    "\"\"\""
   ]
  },
  {
   "cell_type": "code",
   "execution_count": 44,
   "metadata": {},
   "outputs": [
    {
     "data": {
      "text/html": [
       "<div>\n",
       "<style scoped>\n",
       "    .dataframe tbody tr th:only-of-type {\n",
       "        vertical-align: middle;\n",
       "    }\n",
       "\n",
       "    .dataframe tbody tr th {\n",
       "        vertical-align: top;\n",
       "    }\n",
       "\n",
       "    .dataframe thead th {\n",
       "        text-align: right;\n",
       "    }\n",
       "</style>\n",
       "<table border=\"1\" class=\"dataframe\">\n",
       "  <thead>\n",
       "    <tr style=\"text-align: right;\">\n",
       "      <th></th>\n",
       "      <th>訂單編號</th>\n",
       "      <th>票號</th>\n",
       "      <th>狀態</th>\n",
       "      <th>訂購人姓名</th>\n",
       "      <th>訂購人Email</th>\n",
       "      <th>訂購人電話</th>\n",
       "      <th>參加人姓名</th>\n",
       "      <th>參加人Email</th>\n",
       "      <th>參加人電話</th>\n",
       "      <th>報名時間(GTM+8)</th>\n",
       "      <th>有效時間(GTM+8)</th>\n",
       "      <th>票種分組</th>\n",
       "      <th>票價(NT)</th>\n",
       "      <th>付款時間(GTM+8)</th>\n",
       "      <th>付款方式</th>\n",
       "      <th>信用卡末四碼</th>\n",
       "      <th>首次驗票時間(GTM+8)</th>\n",
       "      <th>首次驗票備註</th>\n",
       "      <th>最後驗票時間(GTM+8)</th>\n",
       "      <th>最後驗票備註</th>\n",
       "      <th>驗票次數</th>\n",
       "      <th>驗票通知</th>\n",
       "      <th>備註</th>\n",
       "      <th>取消原因</th>\n",
       "      <th>注意事項</th>\n",
       "      <th>性別</th>\n",
       "      <th>年齡</th>\n",
       "      <th>產業</th>\n",
       "      <th>教育程度</th>\n",
       "      <th>職業</th>\n",
       "      <th>活動資訊來源</th>\n",
       "      <th>購買方式</th>\n",
       "      <th>開立電子發票</th>\n",
       "      <th>三聯發票統編號碼</th>\n",
       "      <th>三聯統編發票抬頭</th>\n",
       "      <th>三聯式發票寄送Email</th>\n",
       "      <th>二聯發票手機載具條碼</th>\n",
       "      <th>二聯發票發票寄送地址(中獎寄送)</th>\n",
       "      <th>二聯發票發票收件者</th>\n",
       "      <th>單人早鳥</th>\n",
       "      <th>團體早鳥</th>\n",
       "    </tr>\n",
       "  </thead>\n",
       "  <tbody>\n",
       "    <tr>\n",
       "      <th>0</th>\n",
       "      <td>2012280129251476230164</td>\n",
       "      <td>2012280129251339608727</td>\n",
       "      <td>已付款</td>\n",
       "      <td>Hugo Chen</td>\n",
       "      <td>ciefcu@gmail.com</td>\n",
       "      <td>886935921203</td>\n",
       "      <td>Hugo Chen</td>\n",
       "      <td>ciefcu@gmail.com</td>\n",
       "      <td>886935921203</td>\n",
       "      <td>2020-12-28 09:29</td>\n",
       "      <td>2021-01-01 00:00 ~ 2021-02-28 00:00</td>\n",
       "      <td>NaN</td>\n",
       "      <td>1990</td>\n",
       "      <td>2020-12-28 09:32</td>\n",
       "      <td>信用卡</td>\n",
       "      <td>4107.0</td>\n",
       "      <td>2021-01-04 13:25</td>\n",
       "      <td>NaN</td>\n",
       "      <td>2021-01-04 13:25</td>\n",
       "      <td>NaN</td>\n",
       "      <td>1</td>\n",
       "      <td>NaN</td>\n",
       "      <td>NaN</td>\n",
       "      <td>NaN</td>\n",
       "      <td>NaN</td>\n",
       "      <td>男性</td>\n",
       "      <td>41~45 歲</td>\n",
       "      <td>其它</td>\n",
       "      <td>研究所及以上</td>\n",
       "      <td>業務人員</td>\n",
       "      <td>ACCUPASS 網站/電子報</td>\n",
       "      <td>電腦</td>\n",
       "      <td>我要捐贈(以下資訊不需填寫)</td>\n",
       "      <td>NaN</td>\n",
       "      <td>NaN</td>\n",
       "      <td>NaN</td>\n",
       "      <td>NaN</td>\n",
       "      <td>NaN</td>\n",
       "      <td>NaN</td>\n",
       "      <td>1</td>\n",
       "      <td>0</td>\n",
       "    </tr>\n",
       "  </tbody>\n",
       "</table>\n",
       "</div>"
      ],
      "text/plain": [
       "                     訂單編號                      票號   狀態      訂購人姓名  \\\n",
       "0  2012280129251476230164  2012280129251339608727  已付款  Hugo Chen   \n",
       "\n",
       "           訂購人Email         訂購人電話      參加人姓名          參加人Email         參加人電話  \\\n",
       "0  ciefcu@gmail.com  886935921203  Hugo Chen  ciefcu@gmail.com  886935921203   \n",
       "\n",
       "        報名時間(GTM+8)                          有效時間(GTM+8)  票種分組  票價(NT)  \\\n",
       "0  2020-12-28 09:29  2021-01-01 00:00 ~ 2021-02-28 00:00   NaN    1990   \n",
       "\n",
       "        付款時間(GTM+8) 付款方式  信用卡末四碼     首次驗票時間(GTM+8)  首次驗票備註     最後驗票時間(GTM+8)  \\\n",
       "0  2020-12-28 09:32  信用卡  4107.0  2021-01-04 13:25     NaN  2021-01-04 13:25   \n",
       "\n",
       "   最後驗票備註  驗票次數  驗票通知  備註  取消原因  注意事項  性別       年齡  產業    教育程度    職業  \\\n",
       "0     NaN     1   NaN NaN   NaN   NaN  男性  41~45 歲  其它  研究所及以上  業務人員   \n",
       "\n",
       "            活動資訊來源 購買方式          開立電子發票  三聯發票統編號碼 三聯統編發票抬頭 三聯式發票寄送Email  \\\n",
       "0  ACCUPASS 網站/電子報   電腦  我要捐贈(以下資訊不需填寫)       NaN      NaN          NaN   \n",
       "\n",
       "   二聯發票手機載具條碼 二聯發票發票寄送地址(中獎寄送) 二聯發票發票收件者  單人早鳥  團體早鳥  \n",
       "0         NaN              NaN       NaN     1     0  "
      ]
     },
     "execution_count": 44,
     "metadata": {},
     "output_type": "execute_result"
    }
   ],
   "source": [
    "df.head(1)"
   ]
  },
  {
   "cell_type": "code",
   "execution_count": 45,
   "metadata": {},
   "outputs": [],
   "source": [
    "#資料型態轉換\n",
    "df['DateTime']=pd.to_datetime(df[\"付款時間(GTM+8)\"],format='%Y/%m/%d')"
   ]
  },
  {
   "cell_type": "code",
   "execution_count": 46,
   "metadata": {},
   "outputs": [
    {
     "data": {
      "text/plain": [
       "0    12\n",
       "1     1\n",
       "2     1\n",
       "3     1\n",
       "Name: month, dtype: int64"
      ]
     },
     "execution_count": 46,
     "metadata": {},
     "output_type": "execute_result"
    }
   ],
   "source": [
    "df['month']=df['DateTime'].dt.month\n",
    "df['month']\n"
   ]
  },
  {
   "cell_type": "code",
   "execution_count": 47,
   "metadata": {},
   "outputs": [
    {
     "data": {
      "text/plain": [
       "0    28\n",
       "1    10\n",
       "2    10\n",
       "3    10\n",
       "Name: day, dtype: int64"
      ]
     },
     "execution_count": 47,
     "metadata": {},
     "output_type": "execute_result"
    }
   ],
   "source": [
    "df['day']=df['DateTime'].dt.day\n",
    "df['day']"
   ]
  },
  {
   "cell_type": "code",
   "execution_count": 48,
   "metadata": {},
   "outputs": [],
   "source": [
    "#資料型別轉換\n",
    "df['month']=df['month'].astype(int).astype(str)\n",
    "df['day']=df['day'].astype(int).astype(str)"
   ]
  },
  {
   "cell_type": "code",
   "execution_count": 49,
   "metadata": {},
   "outputs": [],
   "source": [
    "df['日期']=df['month']+'/'+df['day']"
   ]
  },
  {
   "cell_type": "code",
   "execution_count": 50,
   "metadata": {},
   "outputs": [],
   "source": [
    "for i in df.columns:\n",
    "    if \"單人\" not in df.columns:\n",
    "        df[\"單人\"]=0\n",
    "    elif \"單人早鳥\" not in df.columns:\n",
    "        df[\"單人早鳥\"]=0\n",
    "    elif \"團體票\" not in df.columns:\n",
    "        df[\"團體票\"]=0\n",
    "    elif \"團體早鳥\" not in df.columns:\n",
    "        df[\"團體早鳥\"]=0\n",
    "        "
   ]
  },
  {
   "cell_type": "code",
   "execution_count": 51,
   "metadata": {},
   "outputs": [],
   "source": [
    "df=df.loc[:,[\"參加人姓名\",\"日期\",\"單人\",\"單人早鳥\",\"團體票\",\"團體早鳥\",\"票價(NT)\"]]"
   ]
  },
  {
   "cell_type": "code",
   "execution_count": 52,
   "metadata": {},
   "outputs": [
    {
     "data": {
      "text/html": [
       "<div>\n",
       "<style scoped>\n",
       "    .dataframe tbody tr th:only-of-type {\n",
       "        vertical-align: middle;\n",
       "    }\n",
       "\n",
       "    .dataframe tbody tr th {\n",
       "        vertical-align: top;\n",
       "    }\n",
       "\n",
       "    .dataframe thead th {\n",
       "        text-align: right;\n",
       "    }\n",
       "</style>\n",
       "<table border=\"1\" class=\"dataframe\">\n",
       "  <thead>\n",
       "    <tr style=\"text-align: right;\">\n",
       "      <th></th>\n",
       "      <th>參加人姓名</th>\n",
       "      <th>日期</th>\n",
       "      <th>單人</th>\n",
       "      <th>單人早鳥</th>\n",
       "      <th>團體票</th>\n",
       "      <th>團體早鳥</th>\n",
       "      <th>票價(NT)</th>\n",
       "    </tr>\n",
       "  </thead>\n",
       "  <tbody>\n",
       "    <tr>\n",
       "      <th>0</th>\n",
       "      <td>Hugo Chen</td>\n",
       "      <td>12/28</td>\n",
       "      <td>0</td>\n",
       "      <td>1</td>\n",
       "      <td>0</td>\n",
       "      <td>0</td>\n",
       "      <td>1990</td>\n",
       "    </tr>\n",
       "    <tr>\n",
       "      <th>1</th>\n",
       "      <td>Jasmine Lee</td>\n",
       "      <td>1/10</td>\n",
       "      <td>0</td>\n",
       "      <td>1</td>\n",
       "      <td>0</td>\n",
       "      <td>0</td>\n",
       "      <td>1990</td>\n",
       "    </tr>\n",
       "    <tr>\n",
       "      <th>2</th>\n",
       "      <td>劉弘祥</td>\n",
       "      <td>1/10</td>\n",
       "      <td>0</td>\n",
       "      <td>0</td>\n",
       "      <td>0</td>\n",
       "      <td>1</td>\n",
       "      <td>1850</td>\n",
       "    </tr>\n",
       "    <tr>\n",
       "      <th>3</th>\n",
       "      <td>陳純敏</td>\n",
       "      <td>1/10</td>\n",
       "      <td>0</td>\n",
       "      <td>0</td>\n",
       "      <td>0</td>\n",
       "      <td>1</td>\n",
       "      <td>1850</td>\n",
       "    </tr>\n",
       "  </tbody>\n",
       "</table>\n",
       "</div>"
      ],
      "text/plain": [
       "         參加人姓名     日期  單人  單人早鳥  團體票  團體早鳥  票價(NT)\n",
       "0    Hugo Chen  12/28   0     1    0     0    1990\n",
       "1  Jasmine Lee   1/10   0     1    0     0    1990\n",
       "2          劉弘祥   1/10   0     0    0     1    1850\n",
       "3          陳純敏   1/10   0     0    0     1    1850"
      ]
     },
     "execution_count": 52,
     "metadata": {},
     "output_type": "execute_result"
    }
   ],
   "source": [
    "df"
   ]
  },
  {
   "cell_type": "code",
   "execution_count": 53,
   "metadata": {},
   "outputs": [
    {
     "data": {
      "text/html": [
       "<div>\n",
       "<style scoped>\n",
       "    .dataframe tbody tr th:only-of-type {\n",
       "        vertical-align: middle;\n",
       "    }\n",
       "\n",
       "    .dataframe tbody tr th {\n",
       "        vertical-align: top;\n",
       "    }\n",
       "\n",
       "    .dataframe thead th {\n",
       "        text-align: right;\n",
       "    }\n",
       "</style>\n",
       "<table border=\"1\" class=\"dataframe\">\n",
       "  <thead>\n",
       "    <tr style=\"text-align: right;\">\n",
       "      <th></th>\n",
       "      <th>單人</th>\n",
       "      <th>單人早鳥</th>\n",
       "      <th>團體票</th>\n",
       "      <th>團體早鳥</th>\n",
       "      <th>票價(NT)</th>\n",
       "    </tr>\n",
       "    <tr>\n",
       "      <th>日期</th>\n",
       "      <th></th>\n",
       "      <th></th>\n",
       "      <th></th>\n",
       "      <th></th>\n",
       "      <th></th>\n",
       "    </tr>\n",
       "  </thead>\n",
       "  <tbody>\n",
       "    <tr>\n",
       "      <th>1/10</th>\n",
       "      <td>0</td>\n",
       "      <td>1</td>\n",
       "      <td>0</td>\n",
       "      <td>2</td>\n",
       "      <td>5690</td>\n",
       "    </tr>\n",
       "    <tr>\n",
       "      <th>12/28</th>\n",
       "      <td>0</td>\n",
       "      <td>1</td>\n",
       "      <td>0</td>\n",
       "      <td>0</td>\n",
       "      <td>1990</td>\n",
       "    </tr>\n",
       "  </tbody>\n",
       "</table>\n",
       "</div>"
      ],
      "text/plain": [
       "       單人  單人早鳥  團體票  團體早鳥  票價(NT)\n",
       "日期                                \n",
       "1/10    0     1    0     2    5690\n",
       "12/28   0     1    0     0    1990"
      ]
     },
     "execution_count": 53,
     "metadata": {},
     "output_type": "execute_result"
    }
   ],
   "source": [
    "df.groupby([\"日期\"]).sum()"
   ]
  },
  {
   "cell_type": "code",
   "execution_count": 54,
   "metadata": {},
   "outputs": [
    {
     "data": {
      "text/plain": [
       "日期\n",
       "1/10     5690\n",
       "12/28    1990\n",
       "Name: 票價(NT), dtype: int64"
      ]
     },
     "execution_count": 54,
     "metadata": {},
     "output_type": "execute_result"
    }
   ],
   "source": [
    "df.groupby([\"日期\"])[\"票價(NT)\"].sum()"
   ]
  },
  {
   "cell_type": "code",
   "execution_count": 55,
   "metadata": {},
   "outputs": [
    {
     "data": {
      "text/plain": [
       "日期\n",
       "1/10     3\n",
       "12/28    1\n",
       "Name: 參加人姓名, dtype: int64"
      ]
     },
     "execution_count": 55,
     "metadata": {},
     "output_type": "execute_result"
    }
   ],
   "source": [
    "df.groupby([\"日期\"])[\"參加人姓名\"].count()"
   ]
  },
  {
   "cell_type": "code",
   "execution_count": 56,
   "metadata": {},
   "outputs": [],
   "source": [
    "df2=df.groupby([\"日期\"]).sum()\n",
    "df2=df2.reset_index()"
   ]
  },
  {
   "cell_type": "code",
   "execution_count": 57,
   "metadata": {},
   "outputs": [],
   "source": [
    "df1=df.groupby([\"日期\"]).count()\n",
    "df1=df1.reset_index()"
   ]
  },
  {
   "cell_type": "code",
   "execution_count": 58,
   "metadata": {},
   "outputs": [
    {
     "data": {
      "text/html": [
       "<div>\n",
       "<style scoped>\n",
       "    .dataframe tbody tr th:only-of-type {\n",
       "        vertical-align: middle;\n",
       "    }\n",
       "\n",
       "    .dataframe tbody tr th {\n",
       "        vertical-align: top;\n",
       "    }\n",
       "\n",
       "    .dataframe thead th {\n",
       "        text-align: right;\n",
       "    }\n",
       "</style>\n",
       "<table border=\"1\" class=\"dataframe\">\n",
       "  <thead>\n",
       "    <tr style=\"text-align: right;\">\n",
       "      <th></th>\n",
       "      <th>日期</th>\n",
       "      <th>單人</th>\n",
       "      <th>單人早鳥</th>\n",
       "      <th>團體票</th>\n",
       "      <th>團體早鳥</th>\n",
       "      <th>票價(NT)</th>\n",
       "    </tr>\n",
       "  </thead>\n",
       "  <tbody>\n",
       "    <tr>\n",
       "      <th>0</th>\n",
       "      <td>1/10</td>\n",
       "      <td>0</td>\n",
       "      <td>1</td>\n",
       "      <td>0</td>\n",
       "      <td>2</td>\n",
       "      <td>5690</td>\n",
       "    </tr>\n",
       "    <tr>\n",
       "      <th>1</th>\n",
       "      <td>12/28</td>\n",
       "      <td>0</td>\n",
       "      <td>1</td>\n",
       "      <td>0</td>\n",
       "      <td>0</td>\n",
       "      <td>1990</td>\n",
       "    </tr>\n",
       "  </tbody>\n",
       "</table>\n",
       "</div>"
      ],
      "text/plain": [
       "      日期  單人  單人早鳥  團體票  團體早鳥  票價(NT)\n",
       "0   1/10   0     1    0     2    5690\n",
       "1  12/28   0     1    0     0    1990"
      ]
     },
     "execution_count": 58,
     "metadata": {},
     "output_type": "execute_result"
    }
   ],
   "source": [
    "df2"
   ]
  },
  {
   "cell_type": "code",
   "execution_count": 59,
   "metadata": {},
   "outputs": [],
   "source": [
    "df1=df1.loc[:,['日期','參加人姓名']]"
   ]
  },
  {
   "cell_type": "code",
   "execution_count": 60,
   "metadata": {},
   "outputs": [
    {
     "data": {
      "text/html": [
       "<div>\n",
       "<style scoped>\n",
       "    .dataframe tbody tr th:only-of-type {\n",
       "        vertical-align: middle;\n",
       "    }\n",
       "\n",
       "    .dataframe tbody tr th {\n",
       "        vertical-align: top;\n",
       "    }\n",
       "\n",
       "    .dataframe thead th {\n",
       "        text-align: right;\n",
       "    }\n",
       "</style>\n",
       "<table border=\"1\" class=\"dataframe\">\n",
       "  <thead>\n",
       "    <tr style=\"text-align: right;\">\n",
       "      <th></th>\n",
       "      <th>日期</th>\n",
       "      <th>參加人姓名</th>\n",
       "    </tr>\n",
       "  </thead>\n",
       "  <tbody>\n",
       "    <tr>\n",
       "      <th>0</th>\n",
       "      <td>1/10</td>\n",
       "      <td>3</td>\n",
       "    </tr>\n",
       "    <tr>\n",
       "      <th>1</th>\n",
       "      <td>12/28</td>\n",
       "      <td>1</td>\n",
       "    </tr>\n",
       "  </tbody>\n",
       "</table>\n",
       "</div>"
      ],
      "text/plain": [
       "      日期  參加人姓名\n",
       "0   1/10      3\n",
       "1  12/28      1"
      ]
     },
     "execution_count": 60,
     "metadata": {},
     "output_type": "execute_result"
    }
   ],
   "source": [
    "df1"
   ]
  },
  {
   "cell_type": "code",
   "execution_count": 61,
   "metadata": {},
   "outputs": [],
   "source": [
    "df3=pd.merge(df2,df1,on=\"日期\")"
   ]
  },
  {
   "cell_type": "code",
   "execution_count": 62,
   "metadata": {},
   "outputs": [
    {
     "data": {
      "text/html": [
       "<div>\n",
       "<style scoped>\n",
       "    .dataframe tbody tr th:only-of-type {\n",
       "        vertical-align: middle;\n",
       "    }\n",
       "\n",
       "    .dataframe tbody tr th {\n",
       "        vertical-align: top;\n",
       "    }\n",
       "\n",
       "    .dataframe thead th {\n",
       "        text-align: right;\n",
       "    }\n",
       "</style>\n",
       "<table border=\"1\" class=\"dataframe\">\n",
       "  <thead>\n",
       "    <tr style=\"text-align: right;\">\n",
       "      <th></th>\n",
       "      <th>日期</th>\n",
       "      <th>單人</th>\n",
       "      <th>單人早鳥</th>\n",
       "      <th>團體票</th>\n",
       "      <th>團體早鳥</th>\n",
       "      <th>票價(NT)</th>\n",
       "      <th>參加人姓名</th>\n",
       "    </tr>\n",
       "  </thead>\n",
       "  <tbody>\n",
       "    <tr>\n",
       "      <th>0</th>\n",
       "      <td>1/10</td>\n",
       "      <td>0</td>\n",
       "      <td>1</td>\n",
       "      <td>0</td>\n",
       "      <td>2</td>\n",
       "      <td>5690</td>\n",
       "      <td>3</td>\n",
       "    </tr>\n",
       "    <tr>\n",
       "      <th>1</th>\n",
       "      <td>12/28</td>\n",
       "      <td>0</td>\n",
       "      <td>1</td>\n",
       "      <td>0</td>\n",
       "      <td>0</td>\n",
       "      <td>1990</td>\n",
       "      <td>1</td>\n",
       "    </tr>\n",
       "  </tbody>\n",
       "</table>\n",
       "</div>"
      ],
      "text/plain": [
       "      日期  單人  單人早鳥  團體票  團體早鳥  票價(NT)  參加人姓名\n",
       "0   1/10   0     1    0     2    5690      3\n",
       "1  12/28   0     1    0     0    1990      1"
      ]
     },
     "execution_count": 62,
     "metadata": {},
     "output_type": "execute_result"
    }
   ],
   "source": [
    "df3"
   ]
  },
  {
   "cell_type": "code",
   "execution_count": 63,
   "metadata": {},
   "outputs": [],
   "source": [
    "df3=df3.rename(columns={\"參加人姓名\":\"當日付款人數\"})\n",
    "df3=df3.rename(columns={\"票價(NT)\":\"當日付款金額\"})"
   ]
  },
  {
   "cell_type": "code",
   "execution_count": 64,
   "metadata": {},
   "outputs": [
    {
     "data": {
      "text/html": [
       "<div>\n",
       "<style scoped>\n",
       "    .dataframe tbody tr th:only-of-type {\n",
       "        vertical-align: middle;\n",
       "    }\n",
       "\n",
       "    .dataframe tbody tr th {\n",
       "        vertical-align: top;\n",
       "    }\n",
       "\n",
       "    .dataframe thead th {\n",
       "        text-align: right;\n",
       "    }\n",
       "</style>\n",
       "<table border=\"1\" class=\"dataframe\">\n",
       "  <thead>\n",
       "    <tr style=\"text-align: right;\">\n",
       "      <th></th>\n",
       "      <th>日期</th>\n",
       "      <th>單人</th>\n",
       "      <th>單人早鳥</th>\n",
       "      <th>團體票</th>\n",
       "      <th>團體早鳥</th>\n",
       "      <th>當日付款金額</th>\n",
       "      <th>當日付款人數</th>\n",
       "    </tr>\n",
       "  </thead>\n",
       "  <tbody>\n",
       "    <tr>\n",
       "      <th>0</th>\n",
       "      <td>1/10</td>\n",
       "      <td>0</td>\n",
       "      <td>1</td>\n",
       "      <td>0</td>\n",
       "      <td>2</td>\n",
       "      <td>5690</td>\n",
       "      <td>3</td>\n",
       "    </tr>\n",
       "    <tr>\n",
       "      <th>1</th>\n",
       "      <td>12/28</td>\n",
       "      <td>0</td>\n",
       "      <td>1</td>\n",
       "      <td>0</td>\n",
       "      <td>0</td>\n",
       "      <td>1990</td>\n",
       "      <td>1</td>\n",
       "    </tr>\n",
       "  </tbody>\n",
       "</table>\n",
       "</div>"
      ],
      "text/plain": [
       "      日期  單人  單人早鳥  團體票  團體早鳥  當日付款金額  當日付款人數\n",
       "0   1/10   0     1    0     2    5690       3\n",
       "1  12/28   0     1    0     0    1990       1"
      ]
     },
     "execution_count": 64,
     "metadata": {},
     "output_type": "execute_result"
    }
   ],
   "source": [
    "df3"
   ]
  },
  {
   "cell_type": "code",
   "execution_count": 65,
   "metadata": {},
   "outputs": [],
   "source": [
    "#處理日期並排序\n",
    "df3.loc[(df3[\"日期\"].str.contains(\"/\")==True)\n",
    "       ,\"month\"]=df3['日期'].str.split('/',expand=True)[0]\n",
    "df3.loc[(df3[\"日期\"].str.contains(\"/\")==True)\n",
    "       ,\"day\"]=df3['日期'].str.split('/',expand=True)[1]"
   ]
  },
  {
   "cell_type": "code",
   "execution_count": 66,
   "metadata": {},
   "outputs": [],
   "source": [
    "#資料型別轉換\n",
    "df3['month']=df3['month'].astype(str).astype(int)\n",
    "df3['day']=df3['day'].astype(str).astype(int)"
   ]
  },
  {
   "cell_type": "code",
   "execution_count": 68,
   "metadata": {},
   "outputs": [
    {
     "data": {
      "text/html": [
       "<div>\n",
       "<style scoped>\n",
       "    .dataframe tbody tr th:only-of-type {\n",
       "        vertical-align: middle;\n",
       "    }\n",
       "\n",
       "    .dataframe tbody tr th {\n",
       "        vertical-align: top;\n",
       "    }\n",
       "\n",
       "    .dataframe thead th {\n",
       "        text-align: right;\n",
       "    }\n",
       "</style>\n",
       "<table border=\"1\" class=\"dataframe\">\n",
       "  <thead>\n",
       "    <tr style=\"text-align: right;\">\n",
       "      <th></th>\n",
       "      <th>日期</th>\n",
       "      <th>單人</th>\n",
       "      <th>單人早鳥</th>\n",
       "      <th>團體票</th>\n",
       "      <th>團體早鳥</th>\n",
       "      <th>當日付款金額</th>\n",
       "      <th>當日付款人數</th>\n",
       "      <th>month</th>\n",
       "      <th>day</th>\n",
       "    </tr>\n",
       "  </thead>\n",
       "  <tbody>\n",
       "    <tr>\n",
       "      <th>0</th>\n",
       "      <td>1/10</td>\n",
       "      <td>0</td>\n",
       "      <td>1</td>\n",
       "      <td>0</td>\n",
       "      <td>2</td>\n",
       "      <td>5690</td>\n",
       "      <td>3</td>\n",
       "      <td>1</td>\n",
       "      <td>10</td>\n",
       "    </tr>\n",
       "    <tr>\n",
       "      <th>1</th>\n",
       "      <td>12/28</td>\n",
       "      <td>0</td>\n",
       "      <td>1</td>\n",
       "      <td>0</td>\n",
       "      <td>0</td>\n",
       "      <td>1990</td>\n",
       "      <td>1</td>\n",
       "      <td>12</td>\n",
       "      <td>28</td>\n",
       "    </tr>\n",
       "  </tbody>\n",
       "</table>\n",
       "</div>"
      ],
      "text/plain": [
       "      日期  單人  單人早鳥  團體票  團體早鳥  當日付款金額  當日付款人數  month  day\n",
       "0   1/10   0     1    0     2    5690       3      1   10\n",
       "1  12/28   0     1    0     0    1990       1     12   28"
      ]
     },
     "execution_count": 68,
     "metadata": {},
     "output_type": "execute_result"
    }
   ],
   "source": [
    "df3"
   ]
  },
  {
   "cell_type": "code",
   "execution_count": 69,
   "metadata": {},
   "outputs": [],
   "source": [
    "df3=df3.sort_values(by=['month','day'], ascending=True)"
   ]
  },
  {
   "cell_type": "code",
   "execution_count": 70,
   "metadata": {},
   "outputs": [],
   "source": [
    "df3=df3.drop(['month','day'],axis=1)"
   ]
  },
  {
   "cell_type": "code",
   "execution_count": 35,
   "metadata": {},
   "outputs": [],
   "source": [
    "df3.to_excel(\"marathon1.xlsx\") "
   ]
  },
  {
   "cell_type": "code",
   "execution_count": 71,
   "metadata": {},
   "outputs": [
    {
     "data": {
      "text/html": [
       "<div>\n",
       "<style scoped>\n",
       "    .dataframe tbody tr th:only-of-type {\n",
       "        vertical-align: middle;\n",
       "    }\n",
       "\n",
       "    .dataframe tbody tr th {\n",
       "        vertical-align: top;\n",
       "    }\n",
       "\n",
       "    .dataframe thead th {\n",
       "        text-align: right;\n",
       "    }\n",
       "</style>\n",
       "<table border=\"1\" class=\"dataframe\">\n",
       "  <thead>\n",
       "    <tr style=\"text-align: right;\">\n",
       "      <th></th>\n",
       "      <th>日期</th>\n",
       "      <th>單人</th>\n",
       "      <th>單人早鳥</th>\n",
       "      <th>團體票</th>\n",
       "      <th>團體早鳥</th>\n",
       "      <th>當日付款金額</th>\n",
       "      <th>當日付款人數</th>\n",
       "    </tr>\n",
       "  </thead>\n",
       "  <tbody>\n",
       "    <tr>\n",
       "      <th>0</th>\n",
       "      <td>1/10</td>\n",
       "      <td>0</td>\n",
       "      <td>1</td>\n",
       "      <td>0</td>\n",
       "      <td>2</td>\n",
       "      <td>5690</td>\n",
       "      <td>3</td>\n",
       "    </tr>\n",
       "    <tr>\n",
       "      <th>1</th>\n",
       "      <td>12/28</td>\n",
       "      <td>0</td>\n",
       "      <td>1</td>\n",
       "      <td>0</td>\n",
       "      <td>0</td>\n",
       "      <td>1990</td>\n",
       "      <td>1</td>\n",
       "    </tr>\n",
       "  </tbody>\n",
       "</table>\n",
       "</div>"
      ],
      "text/plain": [
       "      日期  單人  單人早鳥  團體票  團體早鳥  當日付款金額  當日付款人數\n",
       "0   1/10   0     1    0     2    5690       3\n",
       "1  12/28   0     1    0     0    1990       1"
      ]
     },
     "execution_count": 71,
     "metadata": {},
     "output_type": "execute_result"
    }
   ],
   "source": [
    "df3"
   ]
  },
  {
   "cell_type": "code",
   "execution_count": null,
   "metadata": {},
   "outputs": [],
   "source": []
  }
 ],
 "metadata": {
  "kernelspec": {
   "display_name": "Python 3",
   "language": "python",
   "name": "python3"
  },
  "language_info": {
   "codemirror_mode": {
    "name": "ipython",
    "version": 3
   },
   "file_extension": ".py",
   "mimetype": "text/x-python",
   "name": "python",
   "nbconvert_exporter": "python",
   "pygments_lexer": "ipython3",
   "version": "3.8.5"
  }
 },
 "nbformat": 4,
 "nbformat_minor": 4
}
